{
 "cells": [
  {
   "cell_type": "code",
   "execution_count": 1,
   "id": "8593ffd3",
   "metadata": {},
   "outputs": [
    {
     "name": "stdout",
     "output_type": "stream",
     "text": [
      "Requirement already satisfied: stable-baselines3[extra] in c:\\users\\marci\\appdata\\local\\programs\\python\\python311\\lib\\site-packages (2.2.1)\n",
      "Requirement already satisfied: gymnasium<0.30,>=0.28.1 in c:\\users\\marci\\appdata\\local\\programs\\python\\python311\\lib\\site-packages (from stable-baselines3[extra]) (0.29.1)\n",
      "Requirement already satisfied: numpy>=1.20 in c:\\users\\marci\\appdata\\local\\programs\\python\\python311\\lib\\site-packages (from stable-baselines3[extra]) (1.26.2)\n",
      "Requirement already satisfied: torch>=1.13 in c:\\users\\marci\\appdata\\local\\programs\\python\\python311\\lib\\site-packages (from stable-baselines3[extra]) (2.1.1)\n",
      "Requirement already satisfied: cloudpickle in c:\\users\\marci\\appdata\\local\\programs\\python\\python311\\lib\\site-packages (from stable-baselines3[extra]) (3.0.0)\n",
      "Requirement already satisfied: pandas in c:\\users\\marci\\appdata\\local\\programs\\python\\python311\\lib\\site-packages (from stable-baselines3[extra]) (2.1.3)\n",
      "Requirement already satisfied: matplotlib in c:\\users\\marci\\appdata\\local\\programs\\python\\python311\\lib\\site-packages (from stable-baselines3[extra]) (3.8.2)\n",
      "Requirement already satisfied: opencv-python in c:\\users\\marci\\appdata\\local\\programs\\python\\python311\\lib\\site-packages (from stable-baselines3[extra]) (4.8.1.78)\n",
      "Requirement already satisfied: pygame in c:\\users\\marci\\appdata\\local\\programs\\python\\python311\\lib\\site-packages (from stable-baselines3[extra]) (2.5.2)\n",
      "Requirement already satisfied: tensorboard>=2.9.1 in c:\\users\\marci\\appdata\\local\\programs\\python\\python311\\lib\\site-packages (from stable-baselines3[extra]) (2.15.1)\n",
      "Requirement already satisfied: psutil in c:\\users\\marci\\appdata\\roaming\\python\\python311\\site-packages (from stable-baselines3[extra]) (5.9.5)\n",
      "Requirement already satisfied: tqdm in c:\\users\\marci\\appdata\\local\\programs\\python\\python311\\lib\\site-packages (from stable-baselines3[extra]) (4.66.1)\n",
      "Requirement already satisfied: rich in c:\\users\\marci\\appdata\\local\\programs\\python\\python311\\lib\\site-packages (from stable-baselines3[extra]) (13.7.0)\n",
      "Requirement already satisfied: shimmy[atari]~=1.3.0 in c:\\users\\marci\\appdata\\local\\programs\\python\\python311\\lib\\site-packages (from stable-baselines3[extra]) (1.3.0)\n",
      "Requirement already satisfied: pillow in c:\\users\\marci\\appdata\\local\\programs\\python\\python311\\lib\\site-packages (from stable-baselines3[extra]) (10.1.0)\n",
      "Requirement already satisfied: autorom[accept-rom-license]~=0.6.1 in c:\\users\\marci\\appdata\\local\\programs\\python\\python311\\lib\\site-packages (from stable-baselines3[extra]) (0.6.1)\n",
      "Requirement already satisfied: click in c:\\users\\marci\\appdata\\local\\programs\\python\\python311\\lib\\site-packages (from autorom[accept-rom-license]~=0.6.1->stable-baselines3[extra]) (8.1.7)\n",
      "Requirement already satisfied: requests in c:\\users\\marci\\appdata\\local\\programs\\python\\python311\\lib\\site-packages (from autorom[accept-rom-license]~=0.6.1->stable-baselines3[extra]) (2.31.0)\n",
      "Requirement already satisfied: AutoROM.accept-rom-license in c:\\users\\marci\\appdata\\local\\programs\\python\\python311\\lib\\site-packages (from autorom[accept-rom-license]~=0.6.1->stable-baselines3[extra]) (0.6.1)\n",
      "Requirement already satisfied: typing-extensions>=4.3.0 in c:\\users\\marci\\appdata\\local\\programs\\python\\python311\\lib\\site-packages (from gymnasium<0.30,>=0.28.1->stable-baselines3[extra]) (4.8.0)\n",
      "Requirement already satisfied: farama-notifications>=0.0.1 in c:\\users\\marci\\appdata\\local\\programs\\python\\python311\\lib\\site-packages (from gymnasium<0.30,>=0.28.1->stable-baselines3[extra]) (0.0.4)\n",
      "Requirement already satisfied: ale-py~=0.8.1 in c:\\users\\marci\\appdata\\local\\programs\\python\\python311\\lib\\site-packages (from shimmy[atari]~=1.3.0->stable-baselines3[extra]) (0.8.1)\n",
      "Requirement already satisfied: absl-py>=0.4 in c:\\users\\marci\\appdata\\local\\programs\\python\\python311\\lib\\site-packages (from tensorboard>=2.9.1->stable-baselines3[extra]) (2.0.0)\n",
      "Requirement already satisfied: grpcio>=1.48.2 in c:\\users\\marci\\appdata\\local\\programs\\python\\python311\\lib\\site-packages (from tensorboard>=2.9.1->stable-baselines3[extra]) (1.59.3)\n",
      "Requirement already satisfied: google-auth<3,>=1.6.3 in c:\\users\\marci\\appdata\\local\\programs\\python\\python311\\lib\\site-packages (from tensorboard>=2.9.1->stable-baselines3[extra]) (2.23.4)\n",
      "Requirement already satisfied: google-auth-oauthlib<2,>=0.5 in c:\\users\\marci\\appdata\\local\\programs\\python\\python311\\lib\\site-packages (from tensorboard>=2.9.1->stable-baselines3[extra]) (1.1.0)\n",
      "Requirement already satisfied: markdown>=2.6.8 in c:\\users\\marci\\appdata\\local\\programs\\python\\python311\\lib\\site-packages (from tensorboard>=2.9.1->stable-baselines3[extra]) (3.5.1)\n",
      "Requirement already satisfied: protobuf<4.24,>=3.19.6 in c:\\users\\marci\\appdata\\local\\programs\\python\\python311\\lib\\site-packages (from tensorboard>=2.9.1->stable-baselines3[extra]) (4.23.4)\n",
      "Requirement already satisfied: setuptools>=41.0.0 in c:\\users\\marci\\appdata\\local\\programs\\python\\python311\\lib\\site-packages (from tensorboard>=2.9.1->stable-baselines3[extra]) (65.5.0)\n",
      "Requirement already satisfied: six>1.9 in c:\\users\\marci\\appdata\\roaming\\python\\python311\\site-packages (from tensorboard>=2.9.1->stable-baselines3[extra]) (1.16.0)\n",
      "Requirement already satisfied: tensorboard-data-server<0.8.0,>=0.7.0 in c:\\users\\marci\\appdata\\local\\programs\\python\\python311\\lib\\site-packages (from tensorboard>=2.9.1->stable-baselines3[extra]) (0.7.2)\n",
      "Requirement already satisfied: werkzeug>=1.0.1 in c:\\users\\marci\\appdata\\local\\programs\\python\\python311\\lib\\site-packages (from tensorboard>=2.9.1->stable-baselines3[extra]) (3.0.1)\n",
      "Requirement already satisfied: filelock in c:\\users\\marci\\appdata\\local\\programs\\python\\python311\\lib\\site-packages (from torch>=1.13->stable-baselines3[extra]) (3.13.1)\n",
      "Requirement already satisfied: sympy in c:\\users\\marci\\appdata\\local\\programs\\python\\python311\\lib\\site-packages (from torch>=1.13->stable-baselines3[extra]) (1.12)\n",
      "Requirement already satisfied: networkx in c:\\users\\marci\\appdata\\local\\programs\\python\\python311\\lib\\site-packages (from torch>=1.13->stable-baselines3[extra]) (3.2.1)\n",
      "Requirement already satisfied: jinja2 in c:\\users\\marci\\appdata\\local\\programs\\python\\python311\\lib\\site-packages (from torch>=1.13->stable-baselines3[extra]) (3.1.2)\n",
      "Requirement already satisfied: fsspec in c:\\users\\marci\\appdata\\local\\programs\\python\\python311\\lib\\site-packages (from torch>=1.13->stable-baselines3[extra]) (2023.10.0)\n",
      "Requirement already satisfied: contourpy>=1.0.1 in c:\\users\\marci\\appdata\\local\\programs\\python\\python311\\lib\\site-packages (from matplotlib->stable-baselines3[extra]) (1.2.0)\n",
      "Requirement already satisfied: cycler>=0.10 in c:\\users\\marci\\appdata\\local\\programs\\python\\python311\\lib\\site-packages (from matplotlib->stable-baselines3[extra]) (0.12.1)\n",
      "Requirement already satisfied: fonttools>=4.22.0 in c:\\users\\marci\\appdata\\local\\programs\\python\\python311\\lib\\site-packages (from matplotlib->stable-baselines3[extra]) (4.45.1)\n",
      "Requirement already satisfied: kiwisolver>=1.3.1 in c:\\users\\marci\\appdata\\local\\programs\\python\\python311\\lib\\site-packages (from matplotlib->stable-baselines3[extra]) (1.4.5)\n",
      "Requirement already satisfied: packaging>=20.0 in c:\\users\\marci\\appdata\\roaming\\python\\python311\\site-packages (from matplotlib->stable-baselines3[extra]) (23.1)\n",
      "Requirement already satisfied: pyparsing>=2.3.1 in c:\\users\\marci\\appdata\\local\\programs\\python\\python311\\lib\\site-packages (from matplotlib->stable-baselines3[extra]) (3.1.1)\n",
      "Requirement already satisfied: python-dateutil>=2.7 in c:\\users\\marci\\appdata\\roaming\\python\\python311\\site-packages (from matplotlib->stable-baselines3[extra]) (2.8.2)\n",
      "Requirement already satisfied: pytz>=2020.1 in c:\\users\\marci\\appdata\\local\\programs\\python\\python311\\lib\\site-packages (from pandas->stable-baselines3[extra]) (2023.3.post1)\n",
      "Requirement already satisfied: tzdata>=2022.1 in c:\\users\\marci\\appdata\\local\\programs\\python\\python311\\lib\\site-packages (from pandas->stable-baselines3[extra]) (2023.3)\n",
      "Requirement already satisfied: markdown-it-py>=2.2.0 in c:\\users\\marci\\appdata\\local\\programs\\python\\python311\\lib\\site-packages (from rich->stable-baselines3[extra]) (3.0.0)\n",
      "Requirement already satisfied: pygments<3.0.0,>=2.13.0 in c:\\users\\marci\\appdata\\roaming\\python\\python311\\site-packages (from rich->stable-baselines3[extra]) (2.15.1)\n",
      "Requirement already satisfied: colorama in c:\\users\\marci\\appdata\\roaming\\python\\python311\\site-packages (from tqdm->stable-baselines3[extra]) (0.4.6)\n",
      "Requirement already satisfied: importlib-resources in c:\\users\\marci\\appdata\\local\\programs\\python\\python311\\lib\\site-packages (from ale-py~=0.8.1->shimmy[atari]~=1.3.0->stable-baselines3[extra]) (6.1.1)\n",
      "Requirement already satisfied: cachetools<6.0,>=2.0.0 in c:\\users\\marci\\appdata\\local\\programs\\python\\python311\\lib\\site-packages (from google-auth<3,>=1.6.3->tensorboard>=2.9.1->stable-baselines3[extra]) (5.3.2)\n",
      "Requirement already satisfied: pyasn1-modules>=0.2.1 in c:\\users\\marci\\appdata\\local\\programs\\python\\python311\\lib\\site-packages (from google-auth<3,>=1.6.3->tensorboard>=2.9.1->stable-baselines3[extra]) (0.3.0)\n",
      "Requirement already satisfied: rsa<5,>=3.1.4 in c:\\users\\marci\\appdata\\local\\programs\\python\\python311\\lib\\site-packages (from google-auth<3,>=1.6.3->tensorboard>=2.9.1->stable-baselines3[extra]) (4.9)\n",
      "Requirement already satisfied: requests-oauthlib>=0.7.0 in c:\\users\\marci\\appdata\\local\\programs\\python\\python311\\lib\\site-packages (from google-auth-oauthlib<2,>=0.5->tensorboard>=2.9.1->stable-baselines3[extra]) (1.3.1)\n",
      "Requirement already satisfied: mdurl~=0.1 in c:\\users\\marci\\appdata\\local\\programs\\python\\python311\\lib\\site-packages (from markdown-it-py>=2.2.0->rich->stable-baselines3[extra]) (0.1.2)\n",
      "Requirement already satisfied: charset-normalizer<4,>=2 in c:\\users\\marci\\appdata\\local\\programs\\python\\python311\\lib\\site-packages (from requests->autorom[accept-rom-license]~=0.6.1->stable-baselines3[extra]) (3.3.2)\n",
      "Requirement already satisfied: idna<4,>=2.5 in c:\\users\\marci\\appdata\\local\\programs\\python\\python311\\lib\\site-packages (from requests->autorom[accept-rom-license]~=0.6.1->stable-baselines3[extra]) (3.6)\n",
      "Requirement already satisfied: urllib3<3,>=1.21.1 in c:\\users\\marci\\appdata\\local\\programs\\python\\python311\\lib\\site-packages (from requests->autorom[accept-rom-license]~=0.6.1->stable-baselines3[extra]) (2.1.0)\n",
      "Requirement already satisfied: certifi>=2017.4.17 in c:\\users\\marci\\appdata\\local\\programs\\python\\python311\\lib\\site-packages (from requests->autorom[accept-rom-license]~=0.6.1->stable-baselines3[extra]) (2023.11.17)\n",
      "Requirement already satisfied: MarkupSafe>=2.1.1 in c:\\users\\marci\\appdata\\local\\programs\\python\\python311\\lib\\site-packages (from werkzeug>=1.0.1->tensorboard>=2.9.1->stable-baselines3[extra]) (2.1.3)\n",
      "Requirement already satisfied: mpmath>=0.19 in c:\\users\\marci\\appdata\\local\\programs\\python\\python311\\lib\\site-packages (from sympy->torch>=1.13->stable-baselines3[extra]) (1.3.0)\n",
      "Requirement already satisfied: pyasn1<0.6.0,>=0.4.6 in c:\\users\\marci\\appdata\\local\\programs\\python\\python311\\lib\\site-packages (from pyasn1-modules>=0.2.1->google-auth<3,>=1.6.3->tensorboard>=2.9.1->stable-baselines3[extra]) (0.5.1)\n",
      "Requirement already satisfied: oauthlib>=3.0.0 in c:\\users\\marci\\appdata\\local\\programs\\python\\python311\\lib\\site-packages (from requests-oauthlib>=0.7.0->google-auth-oauthlib<2,>=0.5->tensorboard>=2.9.1->stable-baselines3[extra]) (3.2.2)\n",
      "Note: you may need to restart the kernel to use updated packages.\n"
     ]
    },
    {
     "name": "stderr",
     "output_type": "stream",
     "text": [
      "\n",
      "[notice] A new release of pip available: 22.3.1 -> 23.3.1\n",
      "[notice] To update, run: python.exe -m pip install --upgrade pip\n"
     ]
    },
    {
     "name": "stdout",
     "output_type": "stream",
     "text": [
      "Collecting scikit-learnNote: you may need to restart the kernel to use updated packages.\n",
      "\n",
      "  Downloading scikit_learn-1.3.2-cp311-cp311-win_amd64.whl (9.2 MB)\n",
      "     ---------------------------------------- 9.2/9.2 MB 3.6 MB/s eta 0:00:00\n",
      "Requirement already satisfied: numpy<2.0,>=1.17.3 in c:\\users\\marci\\appdata\\local\\programs\\python\\python311\\lib\\site-packages (from scikit-learn) (1.26.2)\n",
      "Collecting scipy>=1.5.0\n",
      "  Downloading scipy-1.11.4-cp311-cp311-win_amd64.whl (44.1 MB)\n",
      "     ---------------------------------------- 44.1/44.1 MB 2.8 MB/s eta 0:00:00\n",
      "Collecting joblib>=1.1.1\n",
      "  Using cached joblib-1.3.2-py3-none-any.whl (302 kB)\n",
      "Collecting threadpoolctl>=2.0.0\n",
      "  Downloading threadpoolctl-3.2.0-py3-none-any.whl (15 kB)\n",
      "Installing collected packages: threadpoolctl, scipy, joblib, scikit-learn\n",
      "Successfully installed joblib-1.3.2 scikit-learn-1.3.2 scipy-1.11.4 threadpoolctl-3.2.0\n"
     ]
    },
    {
     "name": "stderr",
     "output_type": "stream",
     "text": [
      "\n",
      "[notice] A new release of pip available: 22.3.1 -> 23.3.1\n",
      "[notice] To update, run: python.exe -m pip install --upgrade pip\n"
     ]
    },
    {
     "name": "stdout",
     "output_type": "stream",
     "text": [
      "Requirement already satisfied: yfinance in c:\\users\\marci\\appdata\\local\\programs\\python\\python311\\lib\\site-packages (0.2.32)\n",
      "Requirement already satisfied: pandas>=1.3.0 in c:\\users\\marci\\appdata\\local\\programs\\python\\python311\\lib\\site-packages (from yfinance) (2.1.3)\n",
      "Requirement already satisfied: numpy>=1.16.5 in c:\\users\\marci\\appdata\\local\\programs\\python\\python311\\lib\\site-packages (from yfinance) (1.26.2)\n",
      "Requirement already satisfied: requests>=2.31 in c:\\users\\marci\\appdata\\local\\programs\\python\\python311\\lib\\site-packages (from yfinance) (2.31.0)\n",
      "Requirement already satisfied: multitasking>=0.0.7 in c:\\users\\marci\\appdata\\local\\programs\\python\\python311\\lib\\site-packages (from yfinance) (0.0.11)\n",
      "Requirement already satisfied: lxml>=4.9.1 in c:\\users\\marci\\appdata\\local\\programs\\python\\python311\\lib\\site-packages (from yfinance) (4.9.3)\n",
      "Requirement already satisfied: appdirs>=1.4.4 in c:\\users\\marci\\appdata\\local\\programs\\python\\python311\\lib\\site-packages (from yfinance) (1.4.4)\n",
      "Requirement already satisfied: pytz>=2022.5 in c:\\users\\marci\\appdata\\local\\programs\\python\\python311\\lib\\site-packages (from yfinance) (2023.3.post1)\n",
      "Requirement already satisfied: frozendict>=2.3.4 in c:\\users\\marci\\appdata\\local\\programs\\python\\python311\\lib\\site-packages (from yfinance) (2.3.9)\n",
      "Requirement already satisfied: peewee>=3.16.2 in c:\\users\\marci\\appdata\\local\\programs\\python\\python311\\lib\\site-packages (from yfinance) (3.17.0)\n",
      "Requirement already satisfied: beautifulsoup4>=4.11.1 in c:\\users\\marci\\appdata\\local\\programs\\python\\python311\\lib\\site-packages (from yfinance) (4.12.2)\n",
      "Requirement already satisfied: html5lib>=1.1 in c:\\users\\marci\\appdata\\local\\programs\\python\\python311\\lib\\site-packages (from yfinance) (1.1)\n",
      "Requirement already satisfied: soupsieve>1.2 in c:\\users\\marci\\appdata\\local\\programs\\python\\python311\\lib\\site-packages (from beautifulsoup4>=4.11.1->yfinance) (2.5)\n",
      "Requirement already satisfied: six>=1.9 in c:\\users\\marci\\appdata\\roaming\\python\\python311\\site-packages (from html5lib>=1.1->yfinance) (1.16.0)\n",
      "Requirement already satisfied: webencodings in c:\\users\\marci\\appdata\\local\\programs\\python\\python311\\lib\\site-packages (from html5lib>=1.1->yfinance) (0.5.1)\n",
      "Requirement already satisfied: python-dateutil>=2.8.2 in c:\\users\\marci\\appdata\\roaming\\python\\python311\\site-packages (from pandas>=1.3.0->yfinance) (2.8.2)\n",
      "Requirement already satisfied: tzdata>=2022.1 in c:\\users\\marci\\appdata\\local\\programs\\python\\python311\\lib\\site-packages (from pandas>=1.3.0->yfinance) (2023.3)\n",
      "Requirement already satisfied: charset-normalizer<4,>=2 in c:\\users\\marci\\appdata\\local\\programs\\python\\python311\\lib\\site-packages (from requests>=2.31->yfinance) (3.3.2)\n",
      "Requirement already satisfied: idna<4,>=2.5 in c:\\users\\marci\\appdata\\local\\programs\\python\\python311\\lib\\site-packages (from requests>=2.31->yfinance) (3.6)\n",
      "Requirement already satisfied: urllib3<3,>=1.21.1 in c:\\users\\marci\\appdata\\local\\programs\\python\\python311\\lib\\site-packages (from requests>=2.31->yfinance) (2.1.0)\n",
      "Requirement already satisfied: certifi>=2017.4.17 in c:\\users\\marci\\appdata\\local\\programs\\python\\python311\\lib\\site-packages (from requests>=2.31->yfinance) (2023.11.17)\n",
      "Note: you may need to restart the kernel to use updated packages.\n"
     ]
    },
    {
     "name": "stderr",
     "output_type": "stream",
     "text": [
      "\n",
      "[notice] A new release of pip available: 22.3.1 -> 23.3.1\n",
      "[notice] To update, run: python.exe -m pip install --upgrade pip\n"
     ]
    },
    {
     "name": "stdout",
     "output_type": "stream",
     "text": [
      "Requirement already satisfied: pandas in c:\\users\\marci\\appdata\\local\\programs\\python\\python311\\lib\\site-packages (2.1.3)\n",
      "Requirement already satisfied: numpy<2,>=1.23.2 in c:\\users\\marci\\appdata\\local\\programs\\python\\python311\\lib\\site-packages (from pandas) (1.26.2)\n",
      "Requirement already satisfied: python-dateutil>=2.8.2 in c:\\users\\marci\\appdata\\roaming\\python\\python311\\site-packages (from pandas) (2.8.2)\n",
      "Requirement already satisfied: pytz>=2020.1 in c:\\users\\marci\\appdata\\local\\programs\\python\\python311\\lib\\site-packages (from pandas) (2023.3.post1)\n",
      "Requirement already satisfied: tzdata>=2022.1 in c:\\users\\marci\\appdata\\local\\programs\\python\\python311\\lib\\site-packages (from pandas) (2023.3)\n",
      "Requirement already satisfied: six>=1.5 in c:\\users\\marci\\appdata\\roaming\\python\\python311\\site-packages (from python-dateutil>=2.8.2->pandas) (1.16.0)\n",
      "Note: you may need to restart the kernel to use updated packages.\n"
     ]
    },
    {
     "name": "stderr",
     "output_type": "stream",
     "text": [
      "\n",
      "[notice] A new release of pip available: 22.3.1 -> 23.3.1\n",
      "[notice] To update, run: python.exe -m pip install --upgrade pip\n"
     ]
    }
   ],
   "source": [
    "%pip install stable-baselines3[extra]\n",
    "%pip install scikit-learn \n",
    "%pip install yfinance \n",
    "%pip install pandas"
   ]
  },
  {
   "cell_type": "code",
   "execution_count": 2,
   "id": "3e62858b",
   "metadata": {},
   "outputs": [
    {
     "name": "stdout",
     "output_type": "stream",
     "text": [
      "[*********************100%%**********************]  1 of 1 completed\n",
      "Accuracy: 1.0\n",
      "Generated Pine Script:\n",
      "\n",
      "//@version=4\n",
      "strategy(\"ML Trading Strategy\", overlay=true)\n",
      "\n",
      "// Buy signal\n",
      "strategy.entry(\"Buy\", strategy.long, when=predictions == 1)\n",
      "\n",
      "// Sell signal\n",
      "strategy.entry(\"Sell\", strategy.short, when=predictions == -1)\n",
      "\n"
     ]
    }
   ],
   "source": [
    "import yfinance as yf\n",
    "import pandas as pd\n",
    "from sklearn.model_selection import train_test_split\n",
    "from sklearn.ensemble import RandomForestClassifier\n",
    "from sklearn.metrics import accuracy_score\n",
    "\n",
    "# Data Collection\n",
    "symbol = 'AAPL'\n",
    "data = yf.download(symbol, start='2022-01-01', end='2023-11-29')\n",
    "\n",
    "# Feature Engineering\n",
    "data['SMA_50'] = data['Close'].rolling(window=50).mean()\n",
    "data['SMA_200'] = data['Close'].rolling(window=200).mean()\n",
    "\n",
    "# Labeling\n",
    "data['Signal'] = 0\n",
    "data.loc[data['SMA_50'] > data['SMA_200'], 'Signal'] = 1  # Buy signal\n",
    "data.loc[data['SMA_50'] < data['SMA_200'], 'Signal'] = -1  # Sell signal\n",
    "\n",
    "# Drop rows with missing values\n",
    "data = data.dropna()\n",
    "\n",
    "# Train-Test Split\n",
    "train_size = int(0.8 * len(data))\n",
    "train, test = data[:train_size], data[train_size:]\n",
    "\n",
    "# Model Training\n",
    "features = ['SMA_50', 'SMA_200']\n",
    "X_train, y_train = train[features], train['Signal']\n",
    "X_test, y_test = test[features], test['Signal']\n",
    "\n",
    "model = RandomForestClassifier()\n",
    "model.fit(X_train, y_train)\n",
    "\n",
    "# Evaluation\n",
    "predictions = model.predict(X_test)\n",
    "accuracy = accuracy_score(y_test, predictions)\n",
    "print(f\"Accuracy: {accuracy}\")\n",
    "\n",
    "# Pine Script Generation (Sample)\n",
    "def generate_pine_script(predictions):\n",
    "    # Customize this function based on your needs\n",
    "    # This is just a basic example\n",
    "    return f'''\n",
    "//@version=4\n",
    "strategy(\"ML Trading Strategy\", overlay=true)\n",
    "\n",
    "// Buy signal\n",
    "strategy.entry(\"Buy\", strategy.long, when=predictions == 1)\n",
    "\n",
    "// Sell signal\n",
    "strategy.entry(\"Sell\", strategy.short, when=predictions == -1)\n",
    "'''\n",
    "\n",
    "# Example usage\n",
    "pine_script = generate_pine_script(predictions)\n",
    "print(\"Generated Pine Script:\")\n",
    "print(pine_script)\n",
    "\n",
    "\n"
   ]
  },
  {
   "cell_type": "code",
   "execution_count": null,
   "id": "0ab4ac50",
   "metadata": {},
   "outputs": [],
   "source": []
  }
 ],
 "metadata": {
  "kernelspec": {
   "display_name": "Python 3 (ipykernel)",
   "language": "python",
   "name": "python3"
  },
  "language_info": {
   "codemirror_mode": {
    "name": "ipython",
    "version": 3
   },
   "file_extension": ".py",
   "mimetype": "text/x-python",
   "name": "python",
   "nbconvert_exporter": "python",
   "pygments_lexer": "ipython3",
   "version": "3.11.3"
  }
 },
 "nbformat": 4,
 "nbformat_minor": 5
}
